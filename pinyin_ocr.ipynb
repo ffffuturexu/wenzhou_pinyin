{
 "cells": [
  {
   "cell_type": "code",
   "execution_count": 4,
   "metadata": {},
   "outputs": [
    {
     "name": "stdout",
     "output_type": "stream",
     "text": [
      "该个男个大概廿几岁米七下长人有零儿壮左面个手肢肚里有针起个人儿在柢形状好比雕鹰一色该个人身里随何乜证件阿冇带警察希望有晓得个人及时伉公安部门联系\n"
     ]
    }
   ],
   "source": [
    "zh_punts = ['。', '，', '！', '？', '；', '：', '、', '（', '）', '“', '”', '‘', '’', '《', '》']\n",
    "\n",
    "sentence = \"该 个 男 个 大概 廿 几 岁 ， 米 七 下 长 ， 人 有 零儿 壮 ， 左 面 个 手 肢 肚 里 有 针 起 个 人儿 在 柢 ， 形状 好比 雕鹰 一色 。 该 个 人 身 里 随 何乜 证件 阿 冇 带 ， 警察 希望 有 晓得 个 人 及时 伉 公安 部门 联系 。\"\n",
    "\n",
    "char_list = \"\".join([w for w in sentence if w != \" \" and w not in zh_punts])\n",
    "print(char_list)"
   ]
  },
  {
   "cell_type": "code",
   "execution_count": 5,
   "metadata": {},
   "outputs": [
    {
     "name": "stdout",
     "output_type": "stream",
     "text": [
      "<!DOCTYPE html PUBLIC \"-//W3C//DTD XHTML 1.0 Transitional//EN\" \"http://www.w3.org/TR/xhtml1/DTD/xhtml1-transitional.dtd\">\n",
      "<html xmlns=\"http://www.w3.org/1999/xhtml\">\n",
      "\n",
      "<head>\n",
      "<meta http-equiv=\"Content-Type\" content=\"text/html; charset=utf-8\" />\n",
      "<link rel=\"apple-touch-icon\" href=\"apple-touch-icon-120x120.png\" sizes=\"120x120\">\n",
      "<meta name=\"description\" content=\"Wu-Language Dictionary\" />\n",
      "<meta name=\"keywords\" content=\"Wu Dialect, Shanghai Dialect, Suzhou Dialect, Ninbo Dialect, Zaonhe, Soochow, Dialect, Cantonese, Mandarin, 吴语, 吴越, 吴方言, 方言, 上海话, 苏州话, 沪语, 宁波话, 闲话, 苏白, 评弹, 官话, 蓝清官话, 普通话, 古汉语, 连续变调, 浊音, 全浊音, 广韵, 反切, 开合, 中古音\" />\n",
      "<link rel=\"stylesheet\" href=\"css/style.css\" type=\"text/css\" /><title>个 - 搜索结果</title>\n",
      "</head>\n",
      "<script>\n",
      "function PlayAudio(sUrl) {\n",
      "\tdocument.getElementById('sPron').innerHTML='<audio id=\"audio1\" ><source src=\"' + sUrl + '\" type=\"audio/mpeg\" /><embed src=\"' + sUrl + '\" hidden=\"true\" autostart=\"true\" loop=\"false\" type=\"audio/mpeg\"></audio>';\n",
      "\tdocument.getElementById('audio1').play();\n",
      "}\n",
      "function ShowIcon(p) {\n",
      "\tdocument.write(\"<img src='img/hspeak.gif' style='cursor:pointer' onclick=\\\"PlayAudio('sound.php?text=\" + p + \"')\\\">\");\n",
      "}\n",
      "</script>\n",
      "<body class=\"nomarginpadding\">\n",
      "<a name=\"top\"></a>\n",
      "<table style=\"width: 100%\" cellpadding=\"0\" cellspacing=\"0\" border=\"0\">\n",
      "\t<tr>\t\n",
      "\t\t<td id=\"sidebararea\" valign=\"top\" class=\"nonprintable\">\n",
      "<table id=\"menubar\" class=\"menu\" cellspacing=\"0\" cellpadding=\"0\"\n",
      "\tborder=\"0\">\n",
      "\t<tr>\n",
      "\t\t<td align=\"center\"><a href=\"./\"> <img src=\"img/DictLogo.png\"\n",
      "\t\t\tborder=\"0\" alt=\"吴语小典\" /></a> <br />\n",
      "\t\t</td>\n",
      "\t</tr>\n",
      "\t<tr>\n",
      "\t\t<td class=\"underline\"><a href=\"index.php\"> 吴音小字典<br />\n",
      "\t\tWu-Language Dictionary</a></td>\n",
      "\t</tr>\n",
      "\t<tr>\n",
      "\t\t<td class=\"underline\"><a href=\"index.php?searchlang=ng\"> 吴语小词典<br />\n",
      "\t\tWu-Language Lexicon</a></td>\n",
      "\t</tr>\n",
      "\t<tr>\n",
      "\t\t<td class=\"\">&nbsp;</td>\n",
      "\t</tr>\n",
      "\t<tr>\n",
      "\t\t<td class=\"underline\"><a href=\"http://wu-chinese.com/romanization/\"\n",
      "\t\t\ttarget=\"_new\">通用拼音<br />\n",
      "\t\tWu Romanization<img alt=\"Opens in a new window\" border=\"0\"\n",
      "\t\t\tsrc=\"img/icon_new_window.gif\" /></a></td>\n",
      "\t</tr>\n",
      "\t<tr>\n",
      "\t\t<td class=\"underline\"><a href=\"http://wu-chinese.com/bbs/\"\n",
      "\t\t\ttarget=\"_new\">吴语协会论坛<br />\n",
      "\t\tWu-Chinese Forum <img alt=\"Opens in a new window\" border=\"0\"\n",
      "\t\t\tsrc=\"img/icon_new_window.gif\" /></a></td>\n",
      "\t</tr>\n",
      "\t<tr>\n",
      "\t\t<td class=\"\">&nbsp;</td>\n",
      "\t</tr>\n",
      "\t<tr>\n",
      "\t\t<td class=\"underline\"><a\n",
      "\t\t\thref=\"http://wu-chinese.com/bbs/forum.php?mod=viewthread&tid=321\"\n",
      "\t\t\ttarget=\"_new\">报错<br />\n",
      "\t\tReport a problem<img alt=\"Opens in a new window\" border=\"0\"\n",
      "\t\t\tsrc=\"img/icon_new_window.gif\" /></a></td>\n",
      "\t</tr>\n",
      "\t<tr>\n",
      "\t\t<td class=\"underline\"><a\n",
      "\t\t\thref=\"http://wu-chinese.com/bbs/forum.php?mod=viewthread&tid=10183\"\n",
      "\t\t\ttarget=\"_new\">帮助 Help <img alt=\"Opens in a new window\" border=\"0\"\n",
      "\t\t\tsrc=\"img/icon_new_window.gif\" /></a></td>\n",
      "\t</tr>\n",
      "\t<tr>\n",
      "\t\t<td class=\"underline\"><a href=\"mailto:wu.chinese@gmail.com\">联系 Contact</a></td>\n",
      "\t</tr>\n",
      "\t<tr>\n",
      "\t\t<td><a href=\"help/refer.htm\" target=\"_new\"> 参考资料<br />\n",
      "\t\tReferences<img alt=\"Opens in a new window\" border=\"0\"\n",
      "\t\t\tsrc=\"img/icon_new_window.gif\" /></a></td>\n",
      "\t</tr>\n",
      "</table>\n",
      "</td>\t\t<td id=\"contentarea\" valign=\"top\"><span class=\"nonprintable\">\n",
      "\t\t<a href=\"javascript:history.back();\">后退</a><br />\n",
      "\t\t</span>\n",
      "\t\t<div class=\"searchitem\">\n",
      "\t\t\t<table class=\"nonprintable\" cellpadding=\"0\" cellspacing=\"0\">\n",
      "\t\t\t\t<tr>\n",
      "\t\t\t\t\t<td align=\"left\" style=\" width:60%, max-width: 400px\">\n",
      "\t\t\t\t\t<p>输入汉字或拼音<a href=\"http://wu-chinese.com/romanization/\" title=\"通用拼音帮助\" target=\"_new\" class=\"helplink\">Help</a>：</p>\t\t\t\t\t<form method=\"get\" id=\"form_search\" action=\"search.php\">\n",
      "\t\t\t\t\t\t<input type=\"text\" name=\"searchkey\" id=\"searchkey\" size=\"30%\" value=\"个\" />\n",
      "\t\t\t\t\t\t<input type=\"submit\" value=\"搜索\" style=\"width: 15%\" />\n",
      "\t\t\t\t\t\t<br />\n",
      "\t\t\t\t\t\t字典：\n",
      "<select xmlns:php=\"http://php.net/xsl\" name=\"searchlang\" style=\"width: 25%\"><option value=\"zaonhe\">上海</option>\n",
      "<option value=\"suceu\">苏州</option>\n",
      "<option value=\"vusihlau\">无锡（老派）</option>\n",
      "<option value=\"vusihtson\">无锡（中派）</option>\n",
      "<option value=\"zantseu\">常州</option>\n",
      "<option value=\"ghaontseu\">杭州</option>\n",
      "<option value=\"kashin\">嘉兴</option>\n",
      "<option value=\"ninpoh\">宁波</option>\n",
      "<option value=\"zaushin\">绍兴</option>\n",
      "<option value=\"jiutseu\">衢州</option>\n",
      "<option value=\"uentseu\" selected>温州</option>\n",
      "<option value=\"uenlin\">温岭</option>\n",
      "<option value=\"zanloh\">嵊州长乐</option>\n",
      "<option value=\"kadin\">嘉定</option>\n",
      "<option value=\"tsyci\">诸暨</option>\n",
      "<option value=\"zonmin\">崇明 启东 海门</option>\n",
      "<option value=\"ghodin\">嘉定华亭</option>\n",
      "<option value=\"yiuihzen\">江阴月城</option>\n",
      "<option value=\"vusihlohchiu\">无锡陆区</option>\n",
      "<option value=\"ng\">吴方言词典</option></select>\n",
      "\t\t\t\t\t\t<input type=\"hidden\" name=\"category\" value=\"\" />\n",
      "\t\t\t\t\t</form>\n",
      "\t\t\t\t\t<div style=\"text-align: left\" class=\"optiontext\">\n",
      "\t\t\t\t\t示例：倷, 侬, 伊, 衰瘏, 笃定, 厾, 个, yuin, peh, ga\t\t\t\t\t\t</div>\n",
      "\t\t\t\t\t</td>\n",
      "\t\t\t\t</tr>\n",
      "\t\t\t</table>\n",
      "\t\t</div>\n",
      "<table class=\"results\" style=\"width: 100%; border-style: solid\"\\><tr xmlns:php=\"http://php.net/xsl\">\n",
      "<th colspan=\"1\" align=\"center\">#</th>\n",
      "<th colspan=\"1\" align=\"center\">繁体</th>\n",
      "<th colspan=\"1\" align=\"center\">简体</th>\n",
      "<th colspan=\"1\" align=\"center\">拼音</th>\n",
      "<th colspan=\"1\" align=\"center\">声调</th>\n",
      "<th colspan=\"1\" align=\"center\">备注</th>\n",
      "</tr>\n",
      "<tr>\n",
      "<td>1</td>\n",
      "<td colspan=\"2\"><a href=\"search.php?searchkey=t8r%2FpqMUeuxM99H%2BusLE6aPV%2B1neXK1y9YO%2Bch7RFQQ%3D&amp;searchlang=uentseu&amp;category=\"><img alt=\"\" src=\"image.php?text=t8r%2FpqMUeuxM99H%2BusLE6aPV%2B1neXK1y9YO%2Bch7RFQQ%3D\" class=\"textimage\" border=\"0\"></a></td>\n",
      "<td><a href=\"search.php?searchkey=oTc9NV7KXpEde7miKL8mGlq5teBsM%2ByEHTZU5vQnp6U%3D&amp;searchlang=uentseu&amp;category=\"><img alt=\"\" src=\"image.php?text=oTc9NV7KXpEde7miKL8mGlq5teBsM%2ByEHTZU5vQnp6U%3D&amp;string=1\" class=\"textimage\" border=\"0\"></a></td>\n",
      "<td>輕 / 0</td>\n",
      "<td style=\"text-align: left\">\n",
      "<a href=\"search.php?searchkey=TNl9oA9QhDhqwbXTAxqNM%2FbZ1s3zlqujdNcIbVU50ec%3D&amp;searchlang=uentseu&amp;category=\"><img alt=\"\" src=\"image.php?text=TNl9oA9QhDhqwbXTAxqNM%2FbZ1s3zlqujdNcIbVU50ec%3D\" class=\"textimage\" border=\"0\"></a>，<a href=\"search.php?searchkey=1ravInS8C7FqcEAPEhRgtFeuLkKqvVdyEdLtpBMdTpg%3D&amp;searchlang=uentseu&amp;category=\"><img alt=\"\" src=\"image.php?text=1ravInS8C7FqcEAPEhRgtFeuLkKqvVdyEdLtpBMdTpg%3D\" class=\"textimage\" border=\"0\"></a><a href=\"search.php?searchkey=nV65oT3entdmhQwWXkB2UQzSMJ%2FjNDJG6d%2FGx72RXUQ%3D&amp;searchlang=uentseu&amp;category=\"><img alt=\"\" src=\"image.php?text=nV65oT3entdmhQwWXkB2UQzSMJ%2FjNDJG6d%2FGx72RXUQ%3D\" class=\"textimage\" border=\"0\"></a><a href=\"search.php?searchkey=7Q0%2BjBDufVJX%2FTHewxRVc1yGH3esuf3hFFRczaOILFY%3D&amp;searchlang=uentseu&amp;category=\"><img alt=\"\" src=\"image.php?text=7Q0%2BjBDufVJX%2FTHewxRVc1yGH3esuf3hFFRczaOILFY%3D\" class=\"textimage\" border=\"0\"></a><a href=\"search.php?searchkey=q5biNEgNnofVoQ5j%2BnI%2FQV7MHOWCFkbnqo9TmZRHU4g%3D&amp;searchlang=uentseu&amp;category=\"><img alt=\"\" src=\"image.php?text=q5biNEgNnofVoQ5j%2BnI%2FQV7MHOWCFkbnqo9TmZRHU4g%3D\" class=\"textimage\" border=\"0\"></a>\n",
      "</td>\n",
      "</tr><tr>\n",
      "<td>2</td>\n",
      "<td><a href=\"search.php?searchkey=7UzE5a8VoHOAcCIRIakmX9WlftSaClcWFhsxV5v3%2Frg%3D&amp;searchlang=uentseu&amp;category=\"><img alt=\"\" src=\"image.php?text=7UzE5a8VoHOAcCIRIakmX9WlftSaClcWFhsxV5v3%2Frg%3D\" class=\"textimage\" border=\"0\"></a></td>\n",
      "<td><a href=\"search.php?searchkey=t8r%2FpqMUeuxM99H%2BusLE6aPV%2B1neXK1y9YO%2Bch7RFQQ%3D&amp;searchlang=uentseu&amp;category=\"><img alt=\"\" src=\"image.php?text=t8r%2FpqMUeuxM99H%2BusLE6aPV%2B1neXK1y9YO%2Bch7RFQQ%3D\" class=\"textimage\" border=\"0\"></a></td>\n",
      "<td><a href=\"search.php?searchkey=tg4xEmdIa8e3eqPyTdL5kSf675yfBKhrAHAv4d695ng%3D&amp;searchlang=uentseu&amp;category=\"><img alt=\"\" src=\"image.php?text=tg4xEmdIa8e3eqPyTdL5kSf675yfBKhrAHAv4d695ng%3D&amp;string=1\" class=\"textimage\" border=\"0\"></a></td>\n",
      "<td>去 / 3</td>\n",
      "<td style=\"text-align: left\"></td>\n",
      "</tr>\n",
      "</table><p>目前仅部分字典提供发音及繁简对照结果，发音功能弗一定适合所有设备。</p>\t\t<p></p>\n",
      "\t\t<span class=\"nonprintable\"><a href=\"javascript:history.back();\">后退</a>\n",
      "\t\t</span>\n",
      "        <span id=\"sPron\" style=\"position:absolute;\"></span>\n",
      "\t\t</td>\n",
      "\t</tr>\n",
      "<!--<tr class=\"nonprintable\">\n",
      "\t<td valign=\"top\" id=\"sidebarfooterarea\"></td>\n",
      "\t<td valign=\"top\" id=\"contentfooterarea\" align=\"right\"><a href=\"#top\">Top\n",
      "\t<img alt=\"top\" src=\"img/top.gif\" border=\"0\" /></a> </td>\n",
      "</tr>-->\n",
      "<tr class=\"nonprintable\">\n",
      "\t<td colspan=\"2\" align=\"right\" id=\"footerarea\">\n",
      "\t<div>© 2009 - 2024 <a target=\"_blank\" href=\"http://Wu-Chinese.com\">吴语协会</a> 保留所有权利。禁止以任何形式盗用本站任何内容。</div>\n",
      "\t</td>\n",
      "</tr>\n",
      "<!-- 0991231 --></table>\n",
      "</body>\n",
      "</html>\n",
      "\n"
     ]
    }
   ],
   "source": [
    "import requests\n",
    "for char in char_list[1]:\n",
    "    response = requests.get(f'https://wu-chinese.com/minidict/search.php?searchkey={char}&searchlang=uentseu&category=')\n",
    "    print(response.text)"
   ]
  },
  {
   "cell_type": "code",
   "execution_count": 6,
   "metadata": {},
   "outputs": [
    {
     "name": "stdout",
     "output_type": "stream",
     "text": [
      "<table \\=\"\" class=\"results\" style=\"width: 100%; border-style: solid\"><tr xmlns:php=\"http://php.net/xsl\">\n",
      "<th align=\"center\" colspan=\"1\">#</th>\n",
      "<th align=\"center\" colspan=\"1\">繁体</th>\n",
      "<th align=\"center\" colspan=\"1\">简体</th>\n",
      "<th align=\"center\" colspan=\"1\">拼音</th>\n",
      "<th align=\"center\" colspan=\"1\">声调</th>\n",
      "<th align=\"center\" colspan=\"1\">备注</th>\n",
      "</tr>\n",
      "<tr>\n",
      "<td>1</td>\n",
      "<td colspan=\"2\"><a href=\"search.php?searchkey=t8r%2FpqMUeuxM99H%2BusLE6aPV%2B1neXK1y9YO%2Bch7RFQQ%3D&amp;searchlang=uentseu&amp;category=\"><img alt=\"\" border=\"0\" class=\"textimage\" src=\"image.php?text=t8r%2FpqMUeuxM99H%2BusLE6aPV%2B1neXK1y9YO%2Bch7RFQQ%3D\"/></a></td>\n",
      "<td><a href=\"search.php?searchkey=oTc9NV7KXpEde7miKL8mGlq5teBsM%2ByEHTZU5vQnp6U%3D&amp;searchlang=uentseu&amp;category=\"><img alt=\"\" border=\"0\" class=\"textimage\" src=\"image.php?text=oTc9NV7KXpEde7miKL8mGlq5teBsM%2ByEHTZU5vQnp6U%3D&amp;string=1\"/></a></td>\n",
      "<td>輕 / 0</td>\n",
      "<td style=\"text-align: left\">\n",
      "<a href=\"search.php?searchkey=TNl9oA9QhDhqwbXTAxqNM%2FbZ1s3zlqujdNcIbVU50ec%3D&amp;searchlang=uentseu&amp;category=\"><img alt=\"\" border=\"0\" class=\"textimage\" src=\"image.php?text=TNl9oA9QhDhqwbXTAxqNM%2FbZ1s3zlqujdNcIbVU50ec%3D\"/></a>，<a href=\"search.php?searchkey=1ravInS8C7FqcEAPEhRgtFeuLkKqvVdyEdLtpBMdTpg%3D&amp;searchlang=uentseu&amp;category=\"><img alt=\"\" border=\"0\" class=\"textimage\" src=\"image.php?text=1ravInS8C7FqcEAPEhRgtFeuLkKqvVdyEdLtpBMdTpg%3D\"/></a><a href=\"search.php?searchkey=nV65oT3entdmhQwWXkB2UQzSMJ%2FjNDJG6d%2FGx72RXUQ%3D&amp;searchlang=uentseu&amp;category=\"><img alt=\"\" border=\"0\" class=\"textimage\" src=\"image.php?text=nV65oT3entdmhQwWXkB2UQzSMJ%2FjNDJG6d%2FGx72RXUQ%3D\"/></a><a href=\"search.php?searchkey=7Q0%2BjBDufVJX%2FTHewxRVc1yGH3esuf3hFFRczaOILFY%3D&amp;searchlang=uentseu&amp;category=\"><img alt=\"\" border=\"0\" class=\"textimage\" src=\"image.php?text=7Q0%2BjBDufVJX%2FTHewxRVc1yGH3esuf3hFFRczaOILFY%3D\"/></a><a href=\"search.php?searchkey=q5biNEgNnofVoQ5j%2BnI%2FQV7MHOWCFkbnqo9TmZRHU4g%3D&amp;searchlang=uentseu&amp;category=\"><img alt=\"\" border=\"0\" class=\"textimage\" src=\"image.php?text=q5biNEgNnofVoQ5j%2BnI%2FQV7MHOWCFkbnqo9TmZRHU4g%3D\"/></a>\n",
      "</td>\n",
      "</tr><tr>\n",
      "<td>2</td>\n",
      "<td><a href=\"search.php?searchkey=7UzE5a8VoHOAcCIRIakmX9WlftSaClcWFhsxV5v3%2Frg%3D&amp;searchlang=uentseu&amp;category=\"><img alt=\"\" border=\"0\" class=\"textimage\" src=\"image.php?text=7UzE5a8VoHOAcCIRIakmX9WlftSaClcWFhsxV5v3%2Frg%3D\"/></a></td>\n",
      "<td><a href=\"search.php?searchkey=t8r%2FpqMUeuxM99H%2BusLE6aPV%2B1neXK1y9YO%2Bch7RFQQ%3D&amp;searchlang=uentseu&amp;category=\"><img alt=\"\" border=\"0\" class=\"textimage\" src=\"image.php?text=t8r%2FpqMUeuxM99H%2BusLE6aPV%2B1neXK1y9YO%2Bch7RFQQ%3D\"/></a></td>\n",
      "<td><a href=\"search.php?searchkey=tg4xEmdIa8e3eqPyTdL5kSf675yfBKhrAHAv4d695ng%3D&amp;searchlang=uentseu&amp;category=\"><img alt=\"\" border=\"0\" class=\"textimage\" src=\"image.php?text=tg4xEmdIa8e3eqPyTdL5kSf675yfBKhrAHAv4d695ng%3D&amp;string=1\"/></a></td>\n",
      "<td>去 / 3</td>\n",
      "<td style=\"text-align: left\"></td>\n",
      "</tr>\n",
      "</table>\n"
     ]
    }
   ],
   "source": [
    "from bs4 import BeautifulSoup\n",
    "soup = BeautifulSoup(response.text, 'html.parser')\n",
    "table = soup.find('table', attrs={'class':'results'})\n",
    "print(table)"
   ]
  },
  {
   "cell_type": "code",
   "execution_count": 7,
   "metadata": {},
   "outputs": [
    {
     "data": {
      "text/html": [
       "<div>\n",
       "<style scoped>\n",
       "    .dataframe tbody tr th:only-of-type {\n",
       "        vertical-align: middle;\n",
       "    }\n",
       "\n",
       "    .dataframe tbody tr th {\n",
       "        vertical-align: top;\n",
       "    }\n",
       "\n",
       "    .dataframe thead th {\n",
       "        text-align: right;\n",
       "    }\n",
       "</style>\n",
       "<table border=\"1\" class=\"dataframe\">\n",
       "  <thead>\n",
       "    <tr style=\"text-align: right;\">\n",
       "      <th></th>\n",
       "      <th>#</th>\n",
       "      <th>fanti</th>\n",
       "      <th>jianti</th>\n",
       "      <th>pinyin</th>\n",
       "      <th>shengdiao</th>\n",
       "      <th>beizhu</th>\n",
       "    </tr>\n",
       "  </thead>\n",
       "  <tbody>\n",
       "    <tr>\n",
       "      <th>0</th>\n",
       "      <td>1</td>\n",
       "      <td>image.php?text=t8r%2FpqMUeuxM99H%2BusLE6aPV%2B...</td>\n",
       "      <td>image.php?text=t8r%2FpqMUeuxM99H%2BusLE6aPV%2B...</td>\n",
       "      <td>image.php?text=oTc9NV7KXpEde7miKL8mGlq5teBsM%2...</td>\n",
       "      <td>輕 / 0</td>\n",
       "      <td>image.php?text=TNl9oA9QhDhqwbXTAxqNM%2FbZ1s3zl...</td>\n",
       "    </tr>\n",
       "    <tr>\n",
       "      <th>1</th>\n",
       "      <td>2</td>\n",
       "      <td>image.php?text=7UzE5a8VoHOAcCIRIakmX9WlftSaClc...</td>\n",
       "      <td>image.php?text=t8r%2FpqMUeuxM99H%2BusLE6aPV%2B...</td>\n",
       "      <td>image.php?text=tg4xEmdIa8e3eqPyTdL5kSf675yfBKh...</td>\n",
       "      <td>去 / 3</td>\n",
       "      <td></td>\n",
       "    </tr>\n",
       "  </tbody>\n",
       "</table>\n",
       "</div>"
      ],
      "text/plain": [
       "   #                                              fanti   \n",
       "0  1  image.php?text=t8r%2FpqMUeuxM99H%2BusLE6aPV%2B...  \\\n",
       "1  2  image.php?text=7UzE5a8VoHOAcCIRIakmX9WlftSaClc...   \n",
       "\n",
       "                                              jianti   \n",
       "0  image.php?text=t8r%2FpqMUeuxM99H%2BusLE6aPV%2B...  \\\n",
       "1  image.php?text=t8r%2FpqMUeuxM99H%2BusLE6aPV%2B...   \n",
       "\n",
       "                                              pinyin shengdiao   \n",
       "0  image.php?text=oTc9NV7KXpEde7miKL8mGlq5teBsM%2...     輕 / 0  \\\n",
       "1  image.php?text=tg4xEmdIa8e3eqPyTdL5kSf675yfBKh...     去 / 3   \n",
       "\n",
       "                                              beizhu  \n",
       "0  image.php?text=TNl9oA9QhDhqwbXTAxqNM%2FbZ1s3zl...  \n",
       "1                                                     "
      ]
     },
     "execution_count": 7,
     "metadata": {},
     "output_type": "execute_result"
    }
   ],
   "source": [
    "import pandas as pd\n",
    "\n",
    "l = []\n",
    "table_rows = table.find_all('tr')\n",
    "for tr in table_rows[1:]:\n",
    "    tds = tr.find_all('td')\n",
    "    row = []\n",
    "    for td in tds:\n",
    "        if td.img:\n",
    "            if 'colspan' in td.attrs:\n",
    "                row.append(td.img['src'])\n",
    "            row.append(td.img['src'])\n",
    "        else:\n",
    "            row.append(td.text)\n",
    "    # row = [i.text if not i.img else i.img.get('src') for i in td]\n",
    "    l.append(row)\n",
    "\n",
    "result_df = pd.DataFrame(l, columns=['#', 'fanti', 'jianti', 'pinyin', 'shengdiao', 'beizhu'])\n",
    "result_df"
   ]
  },
  {
   "cell_type": "code",
   "execution_count": 11,
   "metadata": {},
   "outputs": [
    {
     "name": "stdout",
     "output_type": "stream",
     "text": [
      "#                                                            1\n",
      "fanti        image.php?text=t8r%2FpqMUeuxM99H%2BusLE6aPV%2B...\n",
      "jianti       image.php?text=t8r%2FpqMUeuxM99H%2BusLE6aPV%2B...\n",
      "pinyin       image.php?text=oTc9NV7KXpEde7miKL8mGlq5teBsM%2...\n",
      "shengdiao                                                輕 / 0\n",
      "beizhu       image.php?text=TNl9oA9QhDhqwbXTAxqNM%2FbZ1s3zl...\n",
      "Name: 0, dtype: object\n",
      "#                                                            2\n",
      "fanti        image.php?text=7UzE5a8VoHOAcCIRIakmX9WlftSaClc...\n",
      "jianti       image.php?text=t8r%2FpqMUeuxM99H%2BusLE6aPV%2B...\n",
      "pinyin       image.php?text=tg4xEmdIa8e3eqPyTdL5kSf675yfBKh...\n",
      "shengdiao                                                去 / 3\n",
      "beizhu                                                        \n",
      "Name: 1, dtype: object\n"
     ]
    }
   ],
   "source": [
    "base_url = 'https://wu-chinese.com/minidict/'\n",
    "for row in result_df.iterrows():\n",
    "    # img_url = base_url + row['pinyin']\n",
    "    # print(img_url)\n",
    "    print(row[1])"
   ]
  },
  {
   "cell_type": "code",
   "execution_count": 26,
   "metadata": {},
   "outputs": [],
   "source": [
    "import shutil\n",
    "base_url = 'https://wu-chinese.com/minidict/'\n",
    "img_url = base_url + result_df['pinyin'][0]\n",
    "img_response = requests.get(img_url, stream=True)\n",
    "with open(f'{char}.png', 'wb') as out_file:\n",
    "    img_response.raw.decode_content = True\n",
    "    shutil.copyfileobj(img_response.raw, out_file)\n",
    "del img_response"
   ]
  },
  {
   "cell_type": "code",
   "execution_count": 1,
   "metadata": {},
   "outputs": [],
   "source": [
    "from my_upscaler import *\n",
    "char = '该'\n",
    "img_path = f'{char}.png'\n",
    "char_upscaled = upscale(img_path, 2)"
   ]
  },
  {
   "cell_type": "code",
   "execution_count": 2,
   "metadata": {},
   "outputs": [],
   "source": [
    "import easyocr\n",
    "reader = easyocr.Reader(['en'])"
   ]
  },
  {
   "cell_type": "code",
   "execution_count": 4,
   "metadata": {},
   "outputs": [
    {
     "data": {
      "text/plain": [
       "'ke'"
      ]
     },
     "execution_count": 4,
     "metadata": {},
     "output_type": "execute_result"
    }
   ],
   "source": [
    "# result = reader.readtext(char_upscaled)\n",
    "result = reader.readtext(cv2.imdecode(np.fromfile(char_upscaled, dtype=np.uint8), 1))\n",
    "result[0][1]"
   ]
  },
  {
   "cell_type": "code",
   "execution_count": 4,
   "metadata": {},
   "outputs": [],
   "source": [
    "from tool import *\n",
    "with open('wz_pinyin_json.json', 'r') as f_json, open('wz_pinyin_table.txt', 'w+') as f_table:\n",
    "    pinyin_dict = json.load(f_json)\n",
    "    for char_unicode in pinyin_dict:\n",
    "        char = unicode2char(char_unicode)\n",
    "        f_table.write(f'{char_unicode}\\t{pinyin_dict[char_unicode]} # {char}\\n')\n",
    "        # print(f'{char_unicode}\\t{pinyin_dict[char_unicode]} # {char}')"
   ]
  },
  {
   "cell_type": "code",
   "execution_count": 3,
   "metadata": {},
   "outputs": [
    {
     "name": "stdout",
     "output_type": "stream",
     "text": [
      "个_1_0.png\n",
      "个_2_3.png\n",
      "男_1_1.png\n",
      "该_1_1.png\n"
     ]
    }
   ],
   "source": [
    "from pinyin_ocr import *\n",
    "for img in os.listdir(pinyin_img_ori_path):\n",
    "    print(img)"
   ]
  }
 ],
 "metadata": {
  "kernelspec": {
   "display_name": "ai_voice",
   "language": "python",
   "name": "python3"
  },
  "language_info": {
   "codemirror_mode": {
    "name": "ipython",
    "version": 3
   },
   "file_extension": ".py",
   "mimetype": "text/x-python",
   "name": "python",
   "nbconvert_exporter": "python",
   "pygments_lexer": "ipython3",
   "version": "3.9.16"
  }
 },
 "nbformat": 4,
 "nbformat_minor": 2
}
